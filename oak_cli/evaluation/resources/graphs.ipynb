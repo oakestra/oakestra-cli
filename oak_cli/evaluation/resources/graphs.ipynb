{
 "cells": [
  {
   "cell_type": "markdown",
   "metadata": {},
   "source": [
    "### Imports"
   ]
  },
  {
   "cell_type": "code",
   "execution_count": null,
   "metadata": {},
   "outputs": [],
   "source": [
    "import matplotlib.pyplot as plt\n",
    "import pandas as pd\n",
    "import seaborn as sns\n",
    "import sys\n",
    "import glob\n",
    "from oak_cli.utils.logging import logger\n",
    "from oak_cli.evaluation.resources.main import ResourcesCSVKeys\n",
    "from oak_cli.evaluation.common import get_csv_dir_for_scenario\n",
    "from oak_cli.evaluation.types import EvaluationScenario\n",
    "from oak_cli.evaluation.graph_utils import CPU_AND_MEMORY_KEYS, get_evaluation_run_duration_label, adjust_xticks"
   ]
  },
  {
   "cell_type": "markdown",
   "metadata": {},
   "source": [
    "### Constants"
   ]
  },
  {
   "cell_type": "code",
   "execution_count": null,
   "metadata": {},
   "outputs": [],
   "source": [
    "csv_dir = get_csv_dir_for_scenario(EvaluationScenario.RESOURCES)"
   ]
  },
  {
   "cell_type": "markdown",
   "metadata": {},
   "source": [
    "### Settings"
   ]
  },
  {
   "cell_type": "code",
   "execution_count": null,
   "metadata": {},
   "outputs": [],
   "source": [
    "USE_MINUTES = True"
   ]
  },
  {
   "cell_type": "markdown",
   "metadata": {},
   "source": [
    "### Error Handing & Checking"
   ]
  },
  {
   "cell_type": "code",
   "execution_count": null,
   "metadata": {},
   "outputs": [],
   "source": [
    "if not csv_dir.exists():\n",
    "    logger.error(f\"{csv_dir} does not exist yet!\")\n",
    "    sys.exit(1)"
   ]
  },
  {
   "cell_type": "markdown",
   "metadata": {},
   "source": [
    "### Common Graph Configuration"
   ]
  },
  {
   "cell_type": "code",
   "execution_count": null,
   "metadata": {},
   "outputs": [],
   "source": [
    "csv_files = glob.glob(f'{csv_dir}/*.csv')\n",
    "df = pd.concat([pd.read_csv(file) for file in csv_files], ignore_index=True)\n",
    "\n",
    "# NOTE: The CSV \"time-since-start\" values are very precise, thus they differ (slightly) between Evaluation-Runs.\n",
    "# This difference leads to issues when trying to plot them in an aggregated way.\n",
    "# To fix this we cast the floats to ints instead. I.e. we are looking at whole seconds - which is fine for this concrete use-case.\n",
    "df[[ResourcesCSVKeys.TIME_SINCE_START.value]] = df[[ResourcesCSVKeys.TIME_SINCE_START.value]].astype(int)\n",
    "\n",
    "df.set_index(ResourcesCSVKeys.TIME_SINCE_START.value, inplace=True)\n",
    "\n",
    "if USE_MINUTES:\n",
    "    df.index = df.index / 60"
   ]
  },
  {
   "cell_type": "markdown",
   "metadata": {},
   "source": [
    "### Common Graph Styling\n"
   ]
  },
  {
   "cell_type": "code",
   "execution_count": null,
   "metadata": {},
   "outputs": [],
   "source": [
    "sns.set_style(\"whitegrid\")"
   ]
  },
  {
   "cell_type": "markdown",
   "metadata": {},
   "source": [
    "# Graphs Drawing"
   ]
  },
  {
   "cell_type": "markdown",
   "metadata": {},
   "source": [
    "### CPU & Memory"
   ]
  },
  {
   "cell_type": "code",
   "execution_count": null,
   "metadata": {},
   "outputs": [],
   "source": [
    "fig, ax = plt.subplots()\n",
    "\n",
    "sns.lineplot(data=df[CPU_AND_MEMORY_KEYS])\n",
    "\n",
    "plt.xlabel(get_evaluation_run_duration_label())\n",
    "plt.ylabel(\"Resource Usage (%)\")\n",
    "plt.xlim([0, max(df.index)])\n",
    "plt.ylim(0)\n",
    "adjust_xticks(ax)\n",
    "\n",
    "plt.show()"
   ]
  },
  {
   "cell_type": "markdown",
   "metadata": {},
   "source": [
    "### Disk Space Changes"
   ]
  },
  {
   "cell_type": "code",
   "execution_count": null,
   "metadata": {},
   "outputs": [],
   "source": [
    "fig, ax = plt.subplots()\n",
    "\n",
    "disk_space_key = ResourcesCSVKeys.DISK_SPACE_CHANGE_SINCE_START.value\n",
    "\n",
    "# Note: Change MB to GB\n",
    "df[[disk_space_key]] = df[[disk_space_key]] / 1024\n",
    "\n",
    "sns.lineplot(data=df[[disk_space_key]])\n",
    "\n",
    "plt.xlabel(get_evaluation_run_duration_label())\n",
    "plt.ylabel(\"Disk Space Change (GB)\")\n",
    "plt.xlim([0, max(df.index)])\n",
    "plt.ylim(0)\n",
    "adjust_xticks(ax)\n",
    "\n",
    "plt.show()"
   ]
  },
  {
   "cell_type": "code",
   "execution_count": null,
   "metadata": {},
   "outputs": [],
   "source": [
    "fig, ax = plt.subplots()\n",
    "\n",
    "disk_space_key = ResourcesCSVKeys.DISK_SPACE_CHANGE_SINCE_LAST_MEASUREMENT.value\n",
    "\n",
    "# Note: Change MB to GB\n",
    "df[[disk_space_key]] = df[[disk_space_key]]\n",
    "\n",
    "sns.lineplot(data=df[[disk_space_key]])\n",
    "\n",
    "plt.xlabel(get_evaluation_run_duration_label())\n",
    "plt.ylabel(\"Disk Space Change Between Measurements (MB)\")\n",
    "plt.xlim([0, max(df.index)])\n",
    "plt.ylim(0)\n",
    "adjust_xticks(ax)\n",
    "\n",
    "plt.show()"
   ]
  },
  {
   "cell_type": "markdown",
   "metadata": {},
   "source": [
    "### Network"
   ]
  },
  {
   "cell_type": "code",
   "execution_count": null,
   "metadata": {},
   "outputs": [],
   "source": [
    "fig, ax = plt.subplots()\n",
    "\n",
    "NETWORK_COMPARED_TO_START_KEYS = [ResourcesCSVKeys.NETWORK_RECEIVED_SINCE_START.value, ResourcesCSVKeys.NETWORK_SENT_SINCE_START.value]\n",
    "\n",
    "sns.lineplot(data=df[NETWORK_COMPARED_TO_START_KEYS] / 1024)\n",
    "\n",
    "plt.xlabel(get_evaluation_run_duration_label())\n",
    "plt.ylabel(\"Network Change (GB)\")\n",
    "plt.xlim([0, max(df.index)])\n",
    "plt.ylim(0)\n",
    "adjust_xticks(ax)\n",
    "\n",
    "plt.show()"
   ]
  },
  {
   "cell_type": "code",
   "execution_count": null,
   "metadata": {},
   "outputs": [],
   "source": [
    "NETWORK_COMPARED_TO_LAST_MEASUREMENT_KEYS = [ResourcesCSVKeys.NETWORK_RECEIVED_COMPARED_TO_LAST_MEASUREMENT.value, ResourcesCSVKeys.NETWORK_SENT_COMPARED_TO_LAST_MEASUREMENT.value]\n",
    "\n",
    "sns.lineplot(data=df[NETWORK_COMPARED_TO_LAST_MEASUREMENT_KEYS])\n",
    "plt.xlabel(get_evaluation_run_duration_label())\n",
    "plt.ylabel(\"Network Changes Between Measurements (MB)\")\n",
    "\n",
    "# Constrain axes e.g. start at 0\n",
    "plt.xlim([0, max(df.index)])\n",
    "plt.ylim(0)\n",
    "\n",
    "plt.show()"
   ]
  }
 ],
 "metadata": {
  "kernelspec": {
   "display_name": "alex",
   "language": "python",
   "name": "python3"
  },
  "language_info": {
   "codemirror_mode": {
    "name": "ipython",
    "version": 3
   },
   "file_extension": ".py",
   "mimetype": "text/x-python",
   "name": "python",
   "nbconvert_exporter": "python",
   "pygments_lexer": "ipython3",
   "version": "3.10.14"
  }
 },
 "nbformat": 4,
 "nbformat_minor": 2
}
