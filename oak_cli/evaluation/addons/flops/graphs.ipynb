{
 "cells": [
  {
   "cell_type": "markdown",
   "metadata": {},
   "source": [
    "### Imports"
   ]
  },
  {
   "cell_type": "code",
   "execution_count": 1,
   "metadata": {},
   "outputs": [],
   "source": [
    "import matplotlib.pyplot as plt\n",
    "import pandas as pd\n",
    "import seaborn as sns\n",
    "import sys\n",
    "import glob\n",
    "from oak_cli.evaluation.resources.main import ResourcesCSVKeys\n",
    "from oak_cli.evaluation.addons.flops.main import FLOpsExclusiveCSVKeys\n",
    "from oak_cli.evaluation.common import get_csv_dir_for_scenario\n",
    "from oak_cli.evaluation.types import EvaluationScenario\n",
    "from oak_cli.evaluation.graph_utils import CPU_AND_MEMORY_KEYS, get_evaluation_run_duration_label, adjust_xticks"
   ]
  },
  {
   "cell_type": "markdown",
   "metadata": {},
   "source": [
    "### Constants"
   ]
  },
  {
   "cell_type": "code",
   "execution_count": 2,
   "metadata": {},
   "outputs": [],
   "source": [
    "csv_dir = get_csv_dir_for_scenario(EvaluationScenario.FLOPS)"
   ]
  },
  {
   "cell_type": "markdown",
   "metadata": {},
   "source": [
    "### Settings"
   ]
  },
  {
   "cell_type": "code",
   "execution_count": 3,
   "metadata": {},
   "outputs": [],
   "source": [
    "USE_MINUTES = True"
   ]
  },
  {
   "cell_type": "markdown",
   "metadata": {},
   "source": [
    "### Error Handing & Checking"
   ]
  },
  {
   "cell_type": "code",
   "execution_count": 4,
   "metadata": {},
   "outputs": [],
   "source": [
    "if not csv_dir.exists():\n",
    "    logger.error(f\"{csv_dir} does not exist yet!\")\n",
    "    sys.exit(1)"
   ]
  },
  {
   "cell_type": "markdown",
   "metadata": {},
   "source": [
    "### Common Graph Configuration"
   ]
  },
  {
   "cell_type": "code",
   "execution_count": 8,
   "metadata": {},
   "outputs": [
    {
     "ename": "KeyError",
     "evalue": "\"None of [Index(['Time Since Evaluation-Run Start'], dtype='object')] are in the [columns]\"",
     "output_type": "error",
     "traceback": [
      "\u001b[0;31m---------------------------------------------------------------------------\u001b[0m",
      "\u001b[0;31mKeyError\u001b[0m                                  Traceback (most recent call last)",
      "Cell \u001b[0;32mIn[8], line 7\u001b[0m\n\u001b[1;32m      2\u001b[0m df \u001b[38;5;241m=\u001b[39m pd\u001b[38;5;241m.\u001b[39mconcat([pd\u001b[38;5;241m.\u001b[39mread_csv(file) \u001b[38;5;28;01mfor\u001b[39;00m file \u001b[38;5;129;01min\u001b[39;00m csv_files], ignore_index\u001b[38;5;241m=\u001b[39m\u001b[38;5;28;01mTrue\u001b[39;00m)\n\u001b[1;32m      4\u001b[0m \u001b[38;5;66;03m# NOTE: The CSV \"time-since-start\" values are very precise, thus they differ (slightly) between Evaluation-Runs.\u001b[39;00m\n\u001b[1;32m      5\u001b[0m \u001b[38;5;66;03m# This difference leads to issues when trying to plot them in an aggregated way.\u001b[39;00m\n\u001b[1;32m      6\u001b[0m \u001b[38;5;66;03m# To fix this we cast the floats to ints instead. I.e. we are looking at whole seconds - which is fine for this concrete use-case.\u001b[39;00m\n\u001b[0;32m----> 7\u001b[0m df[[ResourcesCSVKeys\u001b[38;5;241m.\u001b[39mTIME_SINCE_START\u001b[38;5;241m.\u001b[39mvalue]] \u001b[38;5;241m=\u001b[39m \u001b[43mdf\u001b[49m\u001b[43m[\u001b[49m\u001b[43m[\u001b[49m\u001b[43mResourcesCSVKeys\u001b[49m\u001b[38;5;241;43m.\u001b[39;49m\u001b[43mTIME_SINCE_START\u001b[49m\u001b[38;5;241;43m.\u001b[39;49m\u001b[43mvalue\u001b[49m\u001b[43m]\u001b[49m\u001b[43m]\u001b[49m\u001b[38;5;241m.\u001b[39mastype(\u001b[38;5;28mint\u001b[39m)\n\u001b[1;32m      9\u001b[0m \u001b[38;5;66;03m# df.set_index(ResourcesCSVKeys.TIME_SINCE_START.value, inplace=True)\u001b[39;00m\n\u001b[1;32m     10\u001b[0m \n\u001b[1;32m     11\u001b[0m \u001b[38;5;66;03m# if USE_MINUTES:\u001b[39;00m\n\u001b[1;32m     12\u001b[0m \u001b[38;5;66;03m#     df.index = df.index / 60\u001b[39;00m\n",
      "File \u001b[0;32m~/miniconda3/envs/alex/lib/python3.10/site-packages/pandas/core/frame.py:4108\u001b[0m, in \u001b[0;36mDataFrame.__getitem__\u001b[0;34m(self, key)\u001b[0m\n\u001b[1;32m   4106\u001b[0m     \u001b[38;5;28;01mif\u001b[39;00m is_iterator(key):\n\u001b[1;32m   4107\u001b[0m         key \u001b[38;5;241m=\u001b[39m \u001b[38;5;28mlist\u001b[39m(key)\n\u001b[0;32m-> 4108\u001b[0m     indexer \u001b[38;5;241m=\u001b[39m \u001b[38;5;28;43mself\u001b[39;49m\u001b[38;5;241;43m.\u001b[39;49m\u001b[43mcolumns\u001b[49m\u001b[38;5;241;43m.\u001b[39;49m\u001b[43m_get_indexer_strict\u001b[49m\u001b[43m(\u001b[49m\u001b[43mkey\u001b[49m\u001b[43m,\u001b[49m\u001b[43m \u001b[49m\u001b[38;5;124;43m\"\u001b[39;49m\u001b[38;5;124;43mcolumns\u001b[39;49m\u001b[38;5;124;43m\"\u001b[39;49m\u001b[43m)\u001b[49m[\u001b[38;5;241m1\u001b[39m]\n\u001b[1;32m   4110\u001b[0m \u001b[38;5;66;03m# take() does not accept boolean indexers\u001b[39;00m\n\u001b[1;32m   4111\u001b[0m \u001b[38;5;28;01mif\u001b[39;00m \u001b[38;5;28mgetattr\u001b[39m(indexer, \u001b[38;5;124m\"\u001b[39m\u001b[38;5;124mdtype\u001b[39m\u001b[38;5;124m\"\u001b[39m, \u001b[38;5;28;01mNone\u001b[39;00m) \u001b[38;5;241m==\u001b[39m \u001b[38;5;28mbool\u001b[39m:\n",
      "File \u001b[0;32m~/miniconda3/envs/alex/lib/python3.10/site-packages/pandas/core/indexes/base.py:6200\u001b[0m, in \u001b[0;36mIndex._get_indexer_strict\u001b[0;34m(self, key, axis_name)\u001b[0m\n\u001b[1;32m   6197\u001b[0m \u001b[38;5;28;01melse\u001b[39;00m:\n\u001b[1;32m   6198\u001b[0m     keyarr, indexer, new_indexer \u001b[38;5;241m=\u001b[39m \u001b[38;5;28mself\u001b[39m\u001b[38;5;241m.\u001b[39m_reindex_non_unique(keyarr)\n\u001b[0;32m-> 6200\u001b[0m \u001b[38;5;28;43mself\u001b[39;49m\u001b[38;5;241;43m.\u001b[39;49m\u001b[43m_raise_if_missing\u001b[49m\u001b[43m(\u001b[49m\u001b[43mkeyarr\u001b[49m\u001b[43m,\u001b[49m\u001b[43m \u001b[49m\u001b[43mindexer\u001b[49m\u001b[43m,\u001b[49m\u001b[43m \u001b[49m\u001b[43maxis_name\u001b[49m\u001b[43m)\u001b[49m\n\u001b[1;32m   6202\u001b[0m keyarr \u001b[38;5;241m=\u001b[39m \u001b[38;5;28mself\u001b[39m\u001b[38;5;241m.\u001b[39mtake(indexer)\n\u001b[1;32m   6203\u001b[0m \u001b[38;5;28;01mif\u001b[39;00m \u001b[38;5;28misinstance\u001b[39m(key, Index):\n\u001b[1;32m   6204\u001b[0m     \u001b[38;5;66;03m# GH 42790 - Preserve name from an Index\u001b[39;00m\n",
      "File \u001b[0;32m~/miniconda3/envs/alex/lib/python3.10/site-packages/pandas/core/indexes/base.py:6249\u001b[0m, in \u001b[0;36mIndex._raise_if_missing\u001b[0;34m(self, key, indexer, axis_name)\u001b[0m\n\u001b[1;32m   6247\u001b[0m \u001b[38;5;28;01mif\u001b[39;00m nmissing:\n\u001b[1;32m   6248\u001b[0m     \u001b[38;5;28;01mif\u001b[39;00m nmissing \u001b[38;5;241m==\u001b[39m \u001b[38;5;28mlen\u001b[39m(indexer):\n\u001b[0;32m-> 6249\u001b[0m         \u001b[38;5;28;01mraise\u001b[39;00m \u001b[38;5;167;01mKeyError\u001b[39;00m(\u001b[38;5;124mf\u001b[39m\u001b[38;5;124m\"\u001b[39m\u001b[38;5;124mNone of [\u001b[39m\u001b[38;5;132;01m{\u001b[39;00mkey\u001b[38;5;132;01m}\u001b[39;00m\u001b[38;5;124m] are in the [\u001b[39m\u001b[38;5;132;01m{\u001b[39;00maxis_name\u001b[38;5;132;01m}\u001b[39;00m\u001b[38;5;124m]\u001b[39m\u001b[38;5;124m\"\u001b[39m)\n\u001b[1;32m   6251\u001b[0m     not_found \u001b[38;5;241m=\u001b[39m \u001b[38;5;28mlist\u001b[39m(ensure_index(key)[missing_mask\u001b[38;5;241m.\u001b[39mnonzero()[\u001b[38;5;241m0\u001b[39m]]\u001b[38;5;241m.\u001b[39munique())\n\u001b[1;32m   6252\u001b[0m     \u001b[38;5;28;01mraise\u001b[39;00m \u001b[38;5;167;01mKeyError\u001b[39;00m(\u001b[38;5;124mf\u001b[39m\u001b[38;5;124m\"\u001b[39m\u001b[38;5;132;01m{\u001b[39;00mnot_found\u001b[38;5;132;01m}\u001b[39;00m\u001b[38;5;124m not in index\u001b[39m\u001b[38;5;124m\"\u001b[39m)\n",
      "\u001b[0;31mKeyError\u001b[0m: \"None of [Index(['Time Since Evaluation-Run Start'], dtype='object')] are in the [columns]\""
     ]
    }
   ],
   "source": [
    "csv_files = glob.glob(f'{csv_dir}/*.csv')\n",
    "df = pd.concat([pd.read_csv(file) for file in csv_files], ignore_index=True)\n",
    "\n",
    "# NOTE: The CSV \"time-since-start\" values are very precise, thus they differ (slightly) between Evaluation-Runs.\n",
    "# This difference leads to issues when trying to plot them in an aggregated way.\n",
    "# To fix this we cast the floats to ints instead. I.e. we are looking at whole seconds - which is fine for this concrete use-case.\n",
    "df[[ResourcesCSVKeys.TIME_SINCE_START.value]] = df[[ResourcesCSVKeys.TIME_SINCE_START.value]].astype(int)\n",
    "\n",
    "# df.set_index(ResourcesCSVKeys.TIME_SINCE_START.value, inplace=True)\n",
    "\n",
    "# if USE_MINUTES:\n",
    "#     df.index = df.index / 60"
   ]
  },
  {
   "cell_type": "markdown",
   "metadata": {},
   "source": [
    "### Common Graph Styling"
   ]
  },
  {
   "cell_type": "code",
   "execution_count": null,
   "metadata": {},
   "outputs": [],
   "source": [
    "sns.set_style(\"whitegrid\")"
   ]
  },
  {
   "cell_type": "markdown",
   "metadata": {},
   "source": [
    "# Graphs Drawing"
   ]
  },
  {
   "cell_type": "code",
   "execution_count": null,
   "metadata": {},
   "outputs": [],
   "source": [
    "#sns.pairplot(df)"
   ]
  },
  {
   "cell_type": "code",
   "execution_count": null,
   "metadata": {},
   "outputs": [],
   "source": [
    "# Create a figure and axis\n",
    "fig, ax = plt.subplots()\n",
    "\n",
    "# Plot the data for each stage using area plots\n",
    "for stage in df['Stage'].unique():\n",
    "    subset_df = df[df['Stage'] == stage]\n",
    "    sns.lineplot(x='Time since experiment start', y='CPU Usage (%)', data=subset_df, label=stage, ax=ax)\n",
    "\n",
    "#sns.lineplot(data=df[[\"CPU Usage (%)\", \"Memory Usage (%)\"]])\n",
    "\n",
    "# plt.xlabel(\"Experiment Duration \" + \"(minutes)\" if USE_MINUTES else \"(seconds)\")\n",
    "# plt.ylabel(\"Resource Usage (%)\")\n",
    "\n",
    "# plt.xlim([0, max(df.index)])\n",
    "# plt.ylim(0)\n",
    "\n",
    "plt.show()"
   ]
  },
  {
   "cell_type": "code",
   "execution_count": null,
   "metadata": {},
   "outputs": [],
   "source": [
    "\n",
    "from typing import NamedTuple, List\n",
    "from icecream import ic\n",
    "from pydantic import BaseModel\n",
    "# Create a figure and axis\n",
    "fig, ax = plt.subplots()\n",
    "\n",
    "sns.lineplot(data=df[[\"CPU Usage (%)\", \"Memory Usage (%)\"]])\n",
    "\n",
    "plt.xlabel(\"Experiment Duration \" + \"(minutes)\" if USE_MINUTES else \"(seconds)\")\n",
    "plt.ylabel(\"Resource Usage (%)\")\n",
    "\n",
    "plt.xlim([0, max(df.index)])\n",
    "plt.ylim(0)\n",
    "\n",
    "\n",
    "stage_color_map = {\n",
    "    \"experiment start\": \"blue\",\n",
    "    \"FL-Actors Image Build\": \"red\",\n",
    "    \"FL Training\": \"green\",\n",
    "    \"Trained-Model Image Build\": \"orange\",\n",
    "    \"Deploy Trained-Model\": \"blue\",\n",
    "}\n",
    "\n",
    "class Stage_Info(BaseModel):\n",
    "    stage_name: str\n",
    "    start: float = 0\n",
    "    end: float = 0\n",
    "\n",
    "\n",
    "stages: List[Stage_Info] = []\n",
    "\n",
    "# for index, row in df[df['Stage'] != df['Stage']].iterrows():\n",
    "#     test += 1\n",
    "test = 0\n",
    "last_stage = \"\"\n",
    "ic(last_stage)\n",
    "\n",
    "colors = ['red', 'blue', \"green\", \"yellow\", \"grey\", \"purple\", \"red\", \"blue\"]\n",
    "\n",
    "for index, row in df.iterrows():\n",
    "    current_stage = row[\"Stage\"]\n",
    "\n",
    "    if last_stage == \"\":\n",
    "        last_stage = current_stage\n",
    "        stages.append(Stage_Info(start=0, stage_name=current_stage))\n",
    "\n",
    "    if last_stage != current_stage:\n",
    "        test += 1\n",
    "        last_stage = current_stage\n",
    "        #plt.axvline(x=row['Time since experiment start'], color='r', linestyle='--', ymax=100)  # Red dashed line\n",
    "        plt.axvline(x=index, color='r', linestyle='--', ymax=100)  # Red dashed line\n",
    "        #ic(row['Time since experiment start'])\n",
    "        ic(row, index)\n",
    "\n",
    "        _last_stage = stages[-1]\n",
    "        _last_stage.end = float(index)\n",
    "        ic(test)\n",
    "        next_stage = Stage_Info(start=index, stage_name=current_stage)\n",
    "        stages.append(next_stage)\n",
    "\n",
    "ic(test)\n",
    "# for index, row in df['Stage'].iterrows():\n",
    "#     plt.axvline(x=row['Time since experiment start'], color='r', linestyle='--')  # Red dashed line\n",
    "\n",
    "\n",
    "\n",
    "#ic(df[\"Stage\"].unique())\n",
    "#plt.axvline(x=190.1971788406372 / 60, color='r', linestyle='--', ymax=100)  # Red dashed line\n",
    "#plt.axvline(x=1.0, color='r', linestyle='--', ymax=100)  # Red dashed line\n",
    "\n",
    "#plt.fill_between(range(1,4), range(0,100), color=\"blue\", alpha=0.3)\n",
    "#plt.fill_between(range(1,4), range(0,100), color=\"blue\", alpha=0.3)\n",
    "#plt.fill_between(range(1,4), 100, color=\"blue\", alpha=0.15)\n",
    "#plt.fill_between((1,4), 100, color=\"blue\", alpha=0.15)\n",
    "stages[-1].end = max(df.index)\n",
    "for stage in stages:\n",
    "    plt.fill_between((stage.start,stage.end), 100, color=stage_color_map[stage.stage_name], alpha=0.15)    \n",
    "\n",
    "ic(stages)\n",
    "\n",
    "plt.xlim([0, max(df.index)])\n",
    "plt.ylim(0)\n",
    "\n",
    "plt.show()"
   ]
  },
  {
   "cell_type": "code",
   "execution_count": null,
   "metadata": {},
   "outputs": [],
   "source": [
    "plt.figure(figsize=(10, 6)) \n",
    "sns.barplot(x=\"Stage\", y=\"CPU Usage (%)\", data=df)"
   ]
  },
  {
   "cell_type": "code",
   "execution_count": null,
   "metadata": {},
   "outputs": [],
   "source": [
    "plt.figure(figsize=(10, 6)) \n",
    "sns.boxplot(x=\"Stage\", y=\"CPU Usage (%)\", data=df)"
   ]
  },
  {
   "cell_type": "code",
   "execution_count": null,
   "metadata": {},
   "outputs": [],
   "source": [
    "plt.figure(figsize=(10, 6)) \n",
    "sns.barplot(x=\"Stage\", y=\"Memory Usage (%)\", data=df)"
   ]
  },
  {
   "cell_type": "code",
   "execution_count": null,
   "metadata": {},
   "outputs": [],
   "source": [
    "plt.figure(figsize=(10, 6)) \n",
    "sns.barplot(x=\"Stage\", y=\"Memory Usage (%)\", data=df)"
   ]
  },
  {
   "cell_type": "code",
   "execution_count": null,
   "metadata": {},
   "outputs": [],
   "source": [
    "plt.figure(figsize=(10, 6)) \n",
    "sns.countplot(x=\"Stage\", data=df)"
   ]
  },
  {
   "cell_type": "markdown",
   "metadata": {},
   "source": [
    "### 0-100 % Resources"
   ]
  },
  {
   "cell_type": "code",
   "execution_count": null,
   "metadata": {},
   "outputs": [],
   "source": [
    "if USE_ROLLING_WINDOW:\n",
    "    tmp = df[['CPU Usage (%)', 'Memory Usage (%)']].rolling(window=ROLLING_WINDOW_SIZE)\n",
    "    df[['CPU Usage (%)', 'Memory Usage (%)']] = tmp.mean() if USE_MEAN else tmp.median()\n",
    "\n",
    "#plt.figure(figsize=(10, 6))  # Adjust the figure size as needed\n",
    "\n",
    "sns.lineplot(data=df[[\"CPU Usage (%)\", \"Memory Usage (%)\"]])\n",
    "\n",
    "#plt.title(\"Time Series of CPU and Memory Usage\")\n",
    "plt.xlabel(\"Experiment Duration \" + \"(minutes)\" if USE_MINUTES else \"(seconds)\")\n",
    "plt.ylabel(\"Resource Usage (%)\")\n",
    "\n",
    "plt.xlim([0, max(df.index)])\n",
    "plt.ylim(0)\n",
    "\n",
    "plt.show()"
   ]
  },
  {
   "cell_type": "markdown",
   "metadata": {},
   "source": [
    "### Disk Space Changes"
   ]
  },
  {
   "cell_type": "code",
   "execution_count": null,
   "metadata": {},
   "outputs": [],
   "source": [
    "# plt.figure(figsize=(10, 6))  # Adjust the figure size as needed\n",
    "\n",
    "if USE_ROLLING_WINDOW:\n",
    "    tmp = df[[\"Disk Space change since start\"]].rolling(window=ROLLING_WINDOW_SIZE)\n",
    "    df[[\"Disk Space change since start\"]] = tmp.mean() if USE_MEAN else tmp.median()\n",
    "\n",
    "\n",
    "df[[\"Disk Space change since start\"]] = df[[\"Disk Space change since start\"]] / 1024\n",
    "sns.lineplot(data=df[[\"Disk Space change since start\"]])\n",
    "plt.xlabel(\"Experiment Duration \" + \"(minutes)\" if USE_MINUTES else \"(seconds)\")\n",
    "plt.ylabel(\"Disk Space Change (GB)\")\n",
    "\n",
    "# Constrain axes e.g. start at 0\n",
    "plt.xlim([0, max(df.index)])\n",
    "plt.ylim(0)\n",
    "\n",
    "plt.show()"
   ]
  },
  {
   "cell_type": "code",
   "execution_count": null,
   "metadata": {},
   "outputs": [],
   "source": [
    "# plt.figure(figsize=(10, 6))  # Adjust the figure size as needed\n",
    "\n",
    "# if USE_ROLLING_WINDOW:\n",
    "#     tmp = df[[\"Disk Space change since start\"]].rolling(window=ROLLING_WINDOW_SIZE)\n",
    "#     df[[\"Disk Space change since start\"]] = tmp.mean() if USE_MEAN else tmp.median()\n",
    "\n",
    "\n",
    "#df[[\"Disk Space change since start\"]] = df[[\"Disk Space change since start\"]] / 1024\n",
    "sns.lineplot(data=df[[\"Next Disk diff\"]])\n",
    "plt.xlabel(\"Experiment Duration \" + \"(minutes)\" if USE_MINUTES else \"(seconds)\")\n",
    "plt.ylabel(\"Disk Space Change (MB)\")\n",
    "\n",
    "# Constrain axes e.g. start at 0\n",
    "plt.xlim([0, max(df.index)])\n",
    "plt.ylim(0)\n",
    "\n",
    "plt.show()"
   ]
  },
  {
   "cell_type": "markdown",
   "metadata": {},
   "source": [
    "### Network"
   ]
  },
  {
   "cell_type": "markdown",
   "metadata": {},
   "source": [
    "### Since Start"
   ]
  },
  {
   "cell_type": "code",
   "execution_count": null,
   "metadata": {},
   "outputs": [],
   "source": [
    "if USE_ROLLING_WINDOW:\n",
    "    tmp = df[[\"Net Received Delta compared to start\", \"Net Set Delta compared to start\"]].rolling(window=ROLLING_WINDOW_SIZE)\n",
    "    df[[\"Net Received Delta compared to start\", \"Net Set Delta compared to start\"]] = tmp.mean() if USE_MEAN else tmp.median()\n",
    "\n",
    "sns.lineplot(data=df[[\"Net Received Delta compared to start\", \"Net Set Delta compared to start\"]] / 1024)\n",
    "plt.xlabel(\"Experiment Duration \" + \"(minutes)\" if USE_MINUTES else \"(seconds)\")\n",
    "plt.ylabel(\"Network Change (GB)\")\n",
    "\n",
    "# Constrain axes e.g. start at 0\n",
    "plt.xlim([0, max(df.index)])\n",
    "plt.ylim(0)\n",
    "\n",
    "plt.show()"
   ]
  },
  {
   "cell_type": "markdown",
   "metadata": {},
   "source": [
    "### Network compared: current vs last"
   ]
  },
  {
   "cell_type": "code",
   "execution_count": null,
   "metadata": {},
   "outputs": [],
   "source": [
    "if USE_ROLLING_WINDOW:\n",
    "    tmp = df[[\"Net Received Delta compared to last\", \"Net Set Delta compared to last\"]].rolling(window=ROLLING_WINDOW_SIZE)\n",
    "    df[[\"Net Received Delta compared to last\", \"Net Set Delta compared to last\"]] = tmp.mean() if USE_MEAN else tmp.median()\n",
    "\n",
    "sns.lineplot(data=df[[\"Net Received Delta compared to last\", \"Net Set Delta compared to last\"]])\n",
    "plt.xlabel(\"Experiment Duration \" + \"(minutes)\" if USE_MINUTES else \"(seconds)\")\n",
    "plt.ylabel(\"Network Change (MB)\")\n",
    "\n",
    "# Constrain axes e.g. start at 0\n",
    "plt.xlim([0, max(df.index)])\n",
    "plt.ylim(0)\n",
    "\n",
    "plt.show()"
   ]
  }
 ],
 "metadata": {
  "kernelspec": {
   "display_name": "alex",
   "language": "python",
   "name": "python3"
  },
  "language_info": {
   "codemirror_mode": {
    "name": "ipython",
    "version": 3
   },
   "file_extension": ".py",
   "mimetype": "text/x-python",
   "name": "python",
   "nbconvert_exporter": "python",
   "pygments_lexer": "ipython3",
   "version": "3.10.14"
  }
 },
 "nbformat": 4,
 "nbformat_minor": 2
}
